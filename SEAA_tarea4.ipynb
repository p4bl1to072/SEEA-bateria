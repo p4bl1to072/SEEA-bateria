{
 "cells": [
  {
   "cell_type": "code",
   "execution_count": 82,
   "metadata": {},
   "outputs": [],
   "source": [
    "import numpy as np\n",
    "import pandas as pd"
   ]
  },
  {
   "cell_type": "markdown",
   "metadata": {},
   "source": [
    "#### Datos"
   ]
  },
  {
   "cell_type": "code",
   "execution_count": 83,
   "metadata": {},
   "outputs": [],
   "source": [
    "#t = [0, 10, 25, 65, 67, 125, 150]\n",
    "#dt = [0, 10, 15, 40, 2, 58, 25]\n",
    "#carga = [0, 150, 200, 50, 350, 90, 190]\n",
    "#dt[0:5]"
   ]
  },
  {
   "cell_type": "code",
   "execution_count": 84,
   "metadata": {},
   "outputs": [],
   "source": [
    "t = [0, 55, 75, 78, 95, 100]\n",
    "dt = [0, 5, 50, 20, 3, 17, 5]\n",
    "carga = [0, 250, 100, 50, 350, 120, 50]"
   ]
  },
  {
   "cell_type": "markdown",
   "metadata": {},
   "source": [
    "#### Periodo"
   ]
  },
  {
   "cell_type": "code",
   "execution_count": 85,
   "metadata": {},
   "outputs": [
    {
     "name": "stdout",
     "output_type": "stream",
     "text": [
      "\n",
      "\n",
      "1\n",
      "\n",
      "\n",
      "1\n",
      "2\n",
      "\n",
      "\n",
      "1\n",
      "2\n",
      "3\n",
      "\n",
      "\n",
      "1\n",
      "2\n",
      "3\n",
      "4\n",
      "\n",
      "\n",
      "1\n",
      "2\n",
      "3\n",
      "4\n",
      "5\n",
      "\n",
      "\n",
      "1\n",
      "2\n",
      "3\n",
      "4\n",
      "5\n",
      "6\n",
      "\n",
      "\n"
     ]
    }
   ],
   "source": [
    "for i in range(1,8):\n",
    "    for j in range(1,i):\n",
    "        print(j)\n",
    "    print(\"\\n\")"
   ]
  },
  {
   "cell_type": "markdown",
   "metadata": {},
   "source": [
    "#### Load"
   ]
  },
  {
   "cell_type": "code",
   "execution_count": 86,
   "metadata": {},
   "outputs": [
    {
     "name": "stdout",
     "output_type": "stream",
     "text": [
      "\n",
      "\n",
      "A1=250\n",
      "\n",
      "\n",
      "A1=250\n",
      "A2=100\n",
      "\n",
      "\n",
      "A1=250\n",
      "A2=100\n",
      "A3=50\n",
      "\n",
      "\n",
      "A1=250\n",
      "A2=100\n",
      "A3=50\n",
      "A4=350\n",
      "\n",
      "\n",
      "A1=250\n",
      "A2=100\n",
      "A3=50\n",
      "A4=350\n",
      "A5=120\n",
      "\n",
      "\n",
      "A1=250\n",
      "A2=100\n",
      "A3=50\n",
      "A4=350\n",
      "A5=120\n",
      "A6=50\n",
      "\n",
      "\n"
     ]
    }
   ],
   "source": [
    "for i in range(1,8):\n",
    "    for j in range(1,i):\n",
    "        print(\"A{}={}\".format(j, carga[j]))\n",
    "    print(\"\\n\")\n"
   ]
  },
  {
   "cell_type": "markdown",
   "metadata": {},
   "source": [
    "#### Change in load"
   ]
  },
  {
   "cell_type": "code",
   "execution_count": 87,
   "metadata": {},
   "outputs": [
    {
     "name": "stdout",
     "output_type": "stream",
     "text": [
      "\n",
      "\n",
      "A1-A0=250\n",
      "\n",
      "\n",
      "A1-A0=250\n",
      "A2-A1=-150\n",
      "\n",
      "\n",
      "A1-A0=250\n",
      "A2-A1=-150\n",
      "A3-A2=-50\n",
      "\n",
      "\n",
      "A1-A0=250\n",
      "A2-A1=-150\n",
      "A3-A2=-50\n",
      "A4-A3=300\n",
      "\n",
      "\n",
      "A1-A0=250\n",
      "A2-A1=-150\n",
      "A3-A2=-50\n",
      "A4-A3=300\n",
      "A5-A4=-230\n",
      "\n",
      "\n",
      "A1-A0=250\n",
      "A2-A1=-150\n",
      "A3-A2=-50\n",
      "A4-A3=300\n",
      "A5-A4=-230\n",
      "A6-A5=-70\n",
      "\n",
      "\n"
     ]
    }
   ],
   "source": [
    "change_load = []\n",
    "for i in range(1,8):\n",
    "    for j in range(1,i):\n",
    "        print(\"A{}-A{}={}\".format(j, j-1, carga[j]-carga[j-1]))\n",
    "        change_load.append(carga[j]-carga[j-1])\n",
    "    print(\"\\n\")\n",
    "change_load = np.array([change_load])"
   ]
  },
  {
   "cell_type": "code",
   "execution_count": 88,
   "metadata": {},
   "outputs": [
    {
     "data": {
      "text/plain": [
       "array([[ 250,  250, -150,  250, -150,  -50,  250, -150,  -50,  300,  250,\n",
       "        -150,  -50,  300, -230,  250, -150,  -50,  300, -230,  -70]])"
      ]
     },
     "execution_count": 88,
     "metadata": {},
     "output_type": "execute_result"
    }
   ],
   "source": [
    "change_load"
   ]
  },
  {
   "cell_type": "markdown",
   "metadata": {},
   "source": [
    "#### Duration of period"
   ]
  },
  {
   "cell_type": "code",
   "execution_count": 89,
   "metadata": {},
   "outputs": [
    {
     "name": "stdout",
     "output_type": "stream",
     "text": [
      "\n",
      "\n",
      "M1=5\n",
      "\n",
      "\n",
      "M1=5\n",
      "M2=50\n",
      "\n",
      "\n",
      "M1=5\n",
      "M2=50\n",
      "M3=20\n",
      "\n",
      "\n",
      "M1=5\n",
      "M2=50\n",
      "M3=20\n",
      "M4=3\n",
      "\n",
      "\n",
      "M1=5\n",
      "M2=50\n",
      "M3=20\n",
      "M4=3\n",
      "M5=17\n",
      "\n",
      "\n",
      "M1=5\n",
      "M2=50\n",
      "M3=20\n",
      "M4=3\n",
      "M5=17\n",
      "M6=5\n",
      "\n",
      "\n"
     ]
    }
   ],
   "source": [
    "for i in range(1,8):\n",
    "    for j in range(1,i):\n",
    "        print(\"M{}={}\".format(j, dt[j]))\n",
    "    print(\"\\n\")"
   ]
  },
  {
   "cell_type": "markdown",
   "metadata": {},
   "source": [
    "#### Time to End of Section"
   ]
  },
  {
   "cell_type": "code",
   "execution_count": 90,
   "metadata": {},
   "outputs": [
    {
     "name": "stdout",
     "output_type": "stream",
     "text": [
      "\n",
      "\n",
      "T=M1=5\n",
      "\n",
      "\n",
      "T=M1+M2=55\n",
      "T=M2=50\n",
      "\n",
      "\n",
      "T=M1+...+M3=75\n",
      "T=M2+M3=70\n",
      "T=M3=20\n",
      "\n",
      "\n",
      "T=M1+...+M4=78\n",
      "T=M2+...+M4=73\n",
      "T=M3+M4=23\n",
      "T=M4=3\n",
      "\n",
      "\n",
      "T=M1+...+M5=95\n",
      "T=M2+...+M5=90\n",
      "T=M3+...+M5=40\n",
      "T=M4+M5=20\n",
      "T=M5=17\n",
      "\n",
      "\n",
      "T=M1+...+M6=100\n",
      "T=M2+...+M6=95\n",
      "T=M3+...+M6=45\n",
      "T=M4+...+M6=25\n",
      "T=M5+M6=22\n",
      "T=M6=5\n",
      "\n",
      "\n"
     ]
    }
   ],
   "source": [
    "for i in range(1,8):\n",
    "    for j in range(1,i):\n",
    "        #print(i,j)\n",
    "        #print(\"A{} = {}\".format(j, carga[j]))\n",
    "        if j+1==i:\n",
    "            print(\"T=M{}={}\".format(j, dt[j]))\n",
    "        elif j+2 == i:\n",
    "            print(\"T=M{}+M{}={}\".format(j, j+1, sum(dt[j:i])))\n",
    "        else:\n",
    "            print(\"T=M{}+...+M{}={}\".format(j, i-1, sum(dt[j:i])))\n",
    "        #print(sum(dt[j:i]))\n",
    "\n",
    "    print(\"\\n\")"
   ]
  },
  {
   "cell_type": "code",
   "execution_count": 91,
   "metadata": {},
   "outputs": [
    {
     "name": "stdout",
     "output_type": "stream",
     "text": [
      "\n",
      "\n",
      "5\n",
      "\n",
      "\n",
      "55\n",
      "50\n",
      "\n",
      "\n",
      "75\n",
      "70\n",
      "20\n",
      "\n",
      "\n",
      "78\n",
      "73\n",
      "23\n",
      "3\n",
      "\n",
      "\n",
      "95\n",
      "90\n",
      "40\n",
      "20\n",
      "17\n",
      "\n",
      "\n",
      "100\n",
      "95\n",
      "45\n",
      "25\n",
      "22\n",
      "5\n",
      "\n",
      "\n"
     ]
    }
   ],
   "source": [
    "y = []\n",
    "for i in range(1,8):\n",
    "    for j in range(1,i):\n",
    "        print(sum(dt[j:i]))\n",
    "        y.append(sum(dt[j:i]))\n",
    "    print(\"\\n\")"
   ]
  },
  {
   "cell_type": "code",
   "execution_count": 92,
   "metadata": {},
   "outputs": [
    {
     "data": {
      "text/plain": [
       "[5,\n",
       " 55,\n",
       " 50,\n",
       " 75,\n",
       " 70,\n",
       " 20,\n",
       " 78,\n",
       " 73,\n",
       " 23,\n",
       " 3,\n",
       " 95,\n",
       " 90,\n",
       " 40,\n",
       " 20,\n",
       " 17,\n",
       " 100,\n",
       " 95,\n",
       " 45,\n",
       " 25,\n",
       " 22,\n",
       " 5]"
      ]
     },
     "execution_count": 92,
     "metadata": {},
     "output_type": "execute_result"
    }
   ],
   "source": [
    "y"
   ]
  },
  {
   "cell_type": "markdown",
   "metadata": {},
   "source": [
    "#### K_T (interpolando desde curvas)"
   ]
  },
  {
   "cell_type": "markdown",
   "metadata": {},
   "source": [
    "##### 1.69 V"
   ]
  },
  {
   "cell_type": "code",
   "execution_count": 93,
   "metadata": {},
   "outputs": [
    {
     "data": {
      "text/html": [
       "<div>\n",
       "<style scoped>\n",
       "    .dataframe tbody tr th:only-of-type {\n",
       "        vertical-align: middle;\n",
       "    }\n",
       "\n",
       "    .dataframe tbody tr th {\n",
       "        vertical-align: top;\n",
       "    }\n",
       "\n",
       "    .dataframe thead th {\n",
       "        text-align: right;\n",
       "    }\n",
       "</style>\n",
       "<table border=\"1\" class=\"dataframe\">\n",
       "  <thead>\n",
       "    <tr style=\"text-align: right;\">\n",
       "      <th></th>\n",
       "      <th>K</th>\n",
       "      <th>Minutos</th>\n",
       "    </tr>\n",
       "  </thead>\n",
       "  <tbody>\n",
       "    <tr>\n",
       "      <th>0</th>\n",
       "      <td>0.555</td>\n",
       "      <td>1.059</td>\n",
       "    </tr>\n",
       "    <tr>\n",
       "      <th>1</th>\n",
       "      <td>0.562</td>\n",
       "      <td>1.197</td>\n",
       "    </tr>\n",
       "    <tr>\n",
       "      <th>2</th>\n",
       "      <td>0.567</td>\n",
       "      <td>1.326</td>\n",
       "    </tr>\n",
       "    <tr>\n",
       "      <th>3</th>\n",
       "      <td>0.574</td>\n",
       "      <td>1.456</td>\n",
       "    </tr>\n",
       "    <tr>\n",
       "      <th>4</th>\n",
       "      <td>0.588</td>\n",
       "      <td>1.594</td>\n",
       "    </tr>\n",
       "    <tr>\n",
       "      <th>...</th>\n",
       "      <td>...</td>\n",
       "      <td>...</td>\n",
       "    </tr>\n",
       "    <tr>\n",
       "      <th>62</th>\n",
       "      <td>3.971</td>\n",
       "      <td>190.196</td>\n",
       "    </tr>\n",
       "    <tr>\n",
       "      <th>63</th>\n",
       "      <td>4.157</td>\n",
       "      <td>203.409</td>\n",
       "    </tr>\n",
       "    <tr>\n",
       "      <th>64</th>\n",
       "      <td>4.378</td>\n",
       "      <td>219.133</td>\n",
       "    </tr>\n",
       "    <tr>\n",
       "      <th>65</th>\n",
       "      <td>4.611</td>\n",
       "      <td>234.699</td>\n",
       "    </tr>\n",
       "    <tr>\n",
       "      <th>66</th>\n",
       "      <td>4.884</td>\n",
       "      <td>251.614</td>\n",
       "    </tr>\n",
       "  </tbody>\n",
       "</table>\n",
       "<p>67 rows × 2 columns</p>\n",
       "</div>"
      ],
      "text/plain": [
       "        K  Minutos\n",
       "0   0.555    1.059\n",
       "1   0.562    1.197\n",
       "2   0.567    1.326\n",
       "3   0.574    1.456\n",
       "4   0.588    1.594\n",
       "..    ...      ...\n",
       "62  3.971  190.196\n",
       "63  4.157  203.409\n",
       "64  4.378  219.133\n",
       "65  4.611  234.699\n",
       "66  4.884  251.614\n",
       "\n",
       "[67 rows x 2 columns]"
      ]
     },
     "execution_count": 93,
     "metadata": {},
     "output_type": "execute_result"
    }
   ],
   "source": [
    "v169 = pd.read_csv('1_69V.csv',sep=\";\",decimal=',')\n",
    "v169"
   ]
  },
  {
   "cell_type": "code",
   "execution_count": 94,
   "metadata": {},
   "outputs": [
    {
     "name": "stdout",
     "output_type": "stream",
     "text": [
      "\n",
      "\n",
      "0.7039108910891089\n",
      "\n",
      "\n",
      "1.7480073703606211\n",
      "1.6569878048780489\n",
      "\n",
      "\n",
      "2.083526169900538\n",
      "1.9979236915049732\n",
      "1.077050925925926\n",
      "\n",
      "\n",
      "2.1428628846556417\n",
      "2.049285178542312\n",
      "1.1423665008291874\n",
      "0.6413702422145329\n",
      "\n",
      "\n",
      "2.412178981454224\n",
      "2.327428990825688\n",
      "1.476871724137931\n",
      "1.077050925925926\n",
      "1.0064054054054055\n",
      "\n",
      "\n",
      "2.4946273620559336\n",
      "2.412178981454224\n",
      "1.563436770734784\n",
      "1.183857142857143\n",
      "1.1208076285240465\n",
      "0.7039108910891089\n",
      "\n",
      "\n"
     ]
    }
   ],
   "source": [
    "k169 =[]\n",
    "k=0\n",
    "for i in range(1,8):\n",
    "    for j in range(1,i):\n",
    "        print(np.interp(y[k], xp=v169['Minutos'], fp=v169['K']))\n",
    "        k169.append(np.interp(y[k], xp=v169['Minutos'], fp=v169['K']))\n",
    "        k+=1\n",
    "    print(\"\\n\")"
   ]
  },
  {
   "cell_type": "code",
   "execution_count": 95,
   "metadata": {},
   "outputs": [],
   "source": [
    "k169=np.array([k169],dtype='float').reshape(change_load.shape)"
   ]
  },
  {
   "cell_type": "markdown",
   "metadata": {},
   "source": [
    "Carga aleatoria"
   ]
  },
  {
   "cell_type": "code",
   "execution_count": 96,
   "metadata": {},
   "outputs": [
    {
     "data": {
      "text/plain": [
       "0.555"
      ]
     },
     "execution_count": 96,
     "metadata": {},
     "output_type": "execute_result"
    }
   ],
   "source": [
    "np.interp(1, xp=v169['Minutos'], fp=v169['K'])"
   ]
  },
  {
   "cell_type": "markdown",
   "metadata": {},
   "source": [
    "##### 1.75 V"
   ]
  },
  {
   "cell_type": "code",
   "execution_count": 97,
   "metadata": {},
   "outputs": [
    {
     "data": {
      "text/html": [
       "<div>\n",
       "<style scoped>\n",
       "    .dataframe tbody tr th:only-of-type {\n",
       "        vertical-align: middle;\n",
       "    }\n",
       "\n",
       "    .dataframe tbody tr th {\n",
       "        vertical-align: top;\n",
       "    }\n",
       "\n",
       "    .dataframe thead th {\n",
       "        text-align: right;\n",
       "    }\n",
       "</style>\n",
       "<table border=\"1\" class=\"dataframe\">\n",
       "  <thead>\n",
       "    <tr style=\"text-align: right;\">\n",
       "      <th></th>\n",
       "      <th>K</th>\n",
       "      <th>Minutos</th>\n",
       "    </tr>\n",
       "  </thead>\n",
       "  <tbody>\n",
       "    <tr>\n",
       "      <th>0</th>\n",
       "      <td>0.759</td>\n",
       "      <td>1.125</td>\n",
       "    </tr>\n",
       "    <tr>\n",
       "      <th>1</th>\n",
       "      <td>0.757</td>\n",
       "      <td>1.021</td>\n",
       "    </tr>\n",
       "    <tr>\n",
       "      <th>2</th>\n",
       "      <td>0.766</td>\n",
       "      <td>1.292</td>\n",
       "    </tr>\n",
       "    <tr>\n",
       "      <th>3</th>\n",
       "      <td>0.770</td>\n",
       "      <td>1.622</td>\n",
       "    </tr>\n",
       "    <tr>\n",
       "      <th>4</th>\n",
       "      <td>0.770</td>\n",
       "      <td>1.513</td>\n",
       "    </tr>\n",
       "    <tr>\n",
       "      <th>...</th>\n",
       "      <td>...</td>\n",
       "      <td>...</td>\n",
       "    </tr>\n",
       "    <tr>\n",
       "      <th>72</th>\n",
       "      <td>5.511</td>\n",
       "      <td>295.164</td>\n",
       "    </tr>\n",
       "    <tr>\n",
       "      <th>73</th>\n",
       "      <td>5.837</td>\n",
       "      <td>318.819</td>\n",
       "    </tr>\n",
       "    <tr>\n",
       "      <th>74</th>\n",
       "      <td>6.183</td>\n",
       "      <td>341.964</td>\n",
       "    </tr>\n",
       "    <tr>\n",
       "      <th>75</th>\n",
       "      <td>6.550</td>\n",
       "      <td>365.933</td>\n",
       "    </tr>\n",
       "    <tr>\n",
       "      <th>76</th>\n",
       "      <td>6.819</td>\n",
       "      <td>382.765</td>\n",
       "    </tr>\n",
       "  </tbody>\n",
       "</table>\n",
       "<p>77 rows × 2 columns</p>\n",
       "</div>"
      ],
      "text/plain": [
       "        K  Minutos\n",
       "0   0.759    1.125\n",
       "1   0.757    1.021\n",
       "2   0.766    1.292\n",
       "3   0.770    1.622\n",
       "4   0.770    1.513\n",
       "..    ...      ...\n",
       "72  5.511  295.164\n",
       "73  5.837  318.819\n",
       "74  6.183  341.964\n",
       "75  6.550  365.933\n",
       "76  6.819  382.765\n",
       "\n",
       "[77 rows x 2 columns]"
      ]
     },
     "execution_count": 97,
     "metadata": {},
     "output_type": "execute_result"
    }
   ],
   "source": [
    "v175 = pd.read_csv('1_75V.csv',sep=\";\",decimal=',')\n",
    "v175"
   ]
  },
  {
   "cell_type": "code",
   "execution_count": 98,
   "metadata": {},
   "outputs": [
    {
     "name": "stdout",
     "output_type": "stream",
     "text": [
      "\n",
      "\n",
      "0.8846444444444445\n",
      "\n",
      "\n",
      "1.9167816377171216\n",
      "1.8290487663280117\n",
      "\n",
      "\n",
      "2.2389430305073317\n",
      "2.161282852091927\n",
      "1.2488462078651685\n",
      "\n",
      "\n",
      "2.2850247349823323\n",
      "2.208941345019383\n",
      "1.3179089159717767\n",
      "0.8159463722397476\n",
      "\n",
      "\n",
      "2.553740555127217\n",
      "2.4695719609354922\n",
      "1.6505270721925134\n",
      "1.2488462078651685\n",
      "1.179839222614841\n",
      "\n",
      "\n",
      "2.633279719298246\n",
      "2.553740555127217\n",
      "1.7481353901070884\n",
      "1.3613578104138853\n",
      "1.2943148717948718\n",
      "0.8846444444444445\n",
      "\n",
      "\n"
     ]
    }
   ],
   "source": [
    "k175 = []\n",
    "k=0\n",
    "for i in range(1,8):\n",
    "    for j in range(1,i):\n",
    "        print(np.interp(y[k], xp=v175['Minutos'], fp=v175['K']))\n",
    "        k175.append(np.interp(y[k], xp=v175['Minutos'], fp=v175['K']))\n",
    "        k+=1\n",
    "    print(\"\\n\")"
   ]
  },
  {
   "cell_type": "code",
   "execution_count": 99,
   "metadata": {},
   "outputs": [],
   "source": [
    "k175=np.array([k175],dtype='float').reshape(change_load.shape)"
   ]
  },
  {
   "cell_type": "markdown",
   "metadata": {},
   "source": [
    "Carga aleatoria"
   ]
  },
  {
   "cell_type": "code",
   "execution_count": 100,
   "metadata": {},
   "outputs": [
    {
     "data": {
      "text/plain": [
       "0.759"
      ]
     },
     "execution_count": 100,
     "metadata": {},
     "output_type": "execute_result"
    }
   ],
   "source": [
    "np.interp(1, xp=v175['Minutos'], fp=v175['K'])"
   ]
  },
  {
   "cell_type": "markdown",
   "metadata": {},
   "source": [
    "#### Rated Amp Hrs"
   ]
  },
  {
   "cell_type": "markdown",
   "metadata": {},
   "source": [
    "##### 1.69V"
   ]
  },
  {
   "cell_type": "code",
   "execution_count": 101,
   "metadata": {},
   "outputs": [
    {
     "data": {
      "text/plain": [
       "array([[ 175.97772277,  437.00184259, -248.54817073,  520.88154248,\n",
       "        -299.68855373,  -53.8525463 ,  535.71572116, -307.39277678,\n",
       "         -57.11832504,  192.41107266,  603.04474536, -349.11434862,\n",
       "         -73.84358621,  323.11527778, -231.47324324,  623.65684051,\n",
       "        -361.82684722,  -78.17183854,  355.15714286, -257.78575456,\n",
       "         -49.27376238]])"
      ]
     },
     "execution_count": 101,
     "metadata": {},
     "output_type": "execute_result"
    }
   ],
   "source": [
    "RAH = change_load*k169\n",
    "RAH"
   ]
  },
  {
   "cell_type": "markdown",
   "metadata": {},
   "source": [
    "##### 1.75V"
   ]
  },
  {
   "cell_type": "code",
   "execution_count": 102,
   "metadata": {},
   "outputs": [
    {
     "data": {
      "text/plain": [
       "array([[ 221.16111111,  479.19540943, -274.35731495,  559.73575763,\n",
       "        -324.19242781,  -62.44231039,  571.25618375, -331.34120175,\n",
       "         -65.8954458 ,  244.78391167,  638.43513878, -370.43579414,\n",
       "         -82.52635361,  374.65386236, -271.3630212 ,  658.31992982,\n",
       "        -383.06108327,  -87.40676951,  408.40734312, -297.69242051,\n",
       "         -61.92511111]])"
      ]
     },
     "execution_count": 102,
     "metadata": {},
     "output_type": "execute_result"
    }
   ],
   "source": [
    "RAH = change_load*k175\n",
    "RAH"
   ]
  }
 ],
 "metadata": {
  "kernelspec": {
   "display_name": "base",
   "language": "python",
   "name": "python3"
  },
  "language_info": {
   "codemirror_mode": {
    "name": "ipython",
    "version": 3
   },
   "file_extension": ".py",
   "mimetype": "text/x-python",
   "name": "python",
   "nbconvert_exporter": "python",
   "pygments_lexer": "ipython3",
   "version": "3.10.13"
  }
 },
 "nbformat": 4,
 "nbformat_minor": 2
}
